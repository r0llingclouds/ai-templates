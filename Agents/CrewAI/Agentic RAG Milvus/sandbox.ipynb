{
 "cells": [
  {
   "cell_type": "code",
   "execution_count": null,
   "metadata": {},
   "outputs": [],
   "source": []
  },
  {
   "cell_type": "code",
   "execution_count": null,
   "metadata": {},
   "outputs": [],
   "source": []
  },
  {
   "cell_type": "code",
   "execution_count": 5,
   "metadata": {},
   "outputs": [
    {
     "data": {
      "text/plain": [
       "True"
      ]
     },
     "execution_count": 5,
     "metadata": {},
     "output_type": "execute_result"
    }
   ],
   "source": [
    "# load environment variables\n",
    "import os\n",
    "from dotenv import load_dotenv\n",
    "load_dotenv()"
   ]
  },
  {
   "cell_type": "code",
   "execution_count": 2,
   "metadata": {},
   "outputs": [
    {
     "name": "stdout",
     "output_type": "stream",
     "text": [
      "2025-04-12 22:02:21,107 - DEBUG - milvus_logger - Milvus Client successfully initialized.\n",
      "start to install package: sentence-transformers\n"
     ]
    },
    {
     "name": "stderr",
     "output_type": "stream",
     "text": [
      "WARNING: All log messages before absl::InitializeLog() is called are written to STDERR\n",
      "I0000 00:00:1744488141.108783 21047961 fork_posix.cc:77] Other threads are currently calling into gRPC, skipping fork() handlers\n",
      "\n",
      "\u001b[1m[\u001b[0m\u001b[34;49mnotice\u001b[0m\u001b[1;39;49m]\u001b[0m\u001b[39;49m A new release of pip is available: \u001b[0m\u001b[31;49m23.2.1\u001b[0m\u001b[39;49m -> \u001b[0m\u001b[32;49m25.0.1\u001b[0m\n",
      "\u001b[1m[\u001b[0m\u001b[34;49mnotice\u001b[0m\u001b[1;39;49m]\u001b[0m\u001b[39;49m To update, run: \u001b[0m\u001b[32;49mpip install --upgrade pip\u001b[0m\n"
     ]
    },
    {
     "name": "stdout",
     "output_type": "stream",
     "text": [
      "successfully installed package: sentence-transformers\n"
     ]
    }
   ],
   "source": [
    "# Create MilvusClient instance\n",
    "from MilvusClient import MilvusClient\n",
    "milvus_client = MilvusClient()"
   ]
  },
  {
   "cell_type": "code",
   "execution_count": 7,
   "metadata": {},
   "outputs": [
    {
     "name": "stdout",
     "output_type": "stream",
     "text": [
      "==================================================\n",
      "\n",
      "Querying with skills: \n",
      "Unity, Unreal Engine, C#, C++, Python, Git, Perforce, Jira, Visual Studio, Blender, Maya, Photoshop, Gameplay Mechanics, AI Programming, UI/UX Implementation, Physics Simulation, Performance Optimization, Shader Development, Agile, Scrum, Waterfall, Game Design Principles, 3D Mathematics\n",
      "==================================================\n",
      "2025-04-12 22:08:24,235 - DEBUG - milvus_logger - Using WeightedRanker with weights 0.3 and 0.7\n",
      "Found 3 matches:\n",
      "  0. Unity Game Developer at GameVerse Studios\n",
      "     Job ID: GAME-DEV-007\n",
      "     Match Score: 0.7953\n",
      "     Required Skills: Unity, C#, Game Design, 3D Modeling, Animation, Physics, AR/VR, Git, Agile, Problem-solving\n",
      "\n",
      "  1. Full Stack Developer at WebMatrix Technologies\n",
      "     Job ID: DEV-FS-002\n",
      "     Match Score: 0.7171\n",
      "     Required Skills: JavaScript, TypeScript, React, Node.js, Express, MongoDB, REST APIs, Git, Agile, CI/CD\n",
      "\n",
      "  2. Machine Learning Engineer at TechInnovate Solutions\n",
      "     Job ID: ML-DS-001\n",
      "     Match Score: 0.5042\n",
      "     Required Skills: Python, TensorFlow, PyTorch, Scikit-learn, Deep Learning, SQL, Docker, Git, MLOps\n",
      "\n"
     ]
    }
   ],
   "source": [
    "# You can play with Milvus vector database here to check job positions\n",
    "# This job positions will be retrieved by the RAG agent\n",
    "test_query = \"\"\"\n",
    "Unity, Unreal Engine, C#, C++, Python, Git, Perforce, Jira, Visual Studio, Blender, Maya, Photoshop, Gameplay Mechanics, AI Programming, UI/UX Implementation, Physics Simulation, Performance Optimization, Shader Development, Agile, Scrum, Waterfall, Game Design Principles, 3D Mathematics\"\"\"\n",
    "\n",
    "print(\"=\" * 50)\n",
    "print(f\"\\nQuerying with skills: {test_query}\")\n",
    "print(\"=\" * 50)\n",
    "\n",
    "results = milvus_client.hybrid_search(\n",
    "    collection_name=os.getenv(\"MILVUS_COLLECTION\"),\n",
    "    query_text=test_query,\n",
    "    limit=3,\n",
    "    ranker_type=\"weighted\",\n",
    "    sparse_weight=0.3,\n",
    "    dense_weight=0.7,\n",
    "    output_fields=[\"job_id\", \"title\", \"company_name\", \"required_skills\"]\n",
    ")\n",
    "\n",
    "print(f\"Found {len(results)} matches:\")\n",
    "for i, hit in enumerate(results):\n",
    "    print(f\"  {i}. {hit['entity']['title']} at {hit['entity']['company_name']}\")\n",
    "    print(f\"     Job ID: {hit['entity']['job_id']}\")\n",
    "    print(f\"     Match Score: {hit['distance']:.4f}\")\n",
    "    print(f\"     Required Skills: {hit['entity']['required_skills']}\")\n",
    "    print()"
   ]
  },
  {
   "cell_type": "code",
   "execution_count": null,
   "metadata": {},
   "outputs": [],
   "source": []
  },
  {
   "cell_type": "code",
   "execution_count": null,
   "metadata": {},
   "outputs": [],
   "source": []
  },
  {
   "cell_type": "code",
   "execution_count": null,
   "metadata": {},
   "outputs": [],
   "source": []
  }
 ],
 "metadata": {
  "kernelspec": {
   "display_name": ".venv",
   "language": "python",
   "name": "python3"
  },
  "language_info": {
   "codemirror_mode": {
    "name": "ipython",
    "version": 3
   },
   "file_extension": ".py",
   "mimetype": "text/x-python",
   "name": "python",
   "nbconvert_exporter": "python",
   "pygments_lexer": "ipython3",
   "version": "3.11.7"
  }
 },
 "nbformat": 4,
 "nbformat_minor": 2
}
